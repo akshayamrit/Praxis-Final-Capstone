{
 "cells": [
  {
   "cell_type": "code",
   "execution_count": 1,
   "metadata": {},
   "outputs": [],
   "source": [
    "import cv2\n",
    "import pytesseract\n",
    "import numpy as np"
   ]
  },
  {
   "cell_type": "code",
   "execution_count": 5,
   "metadata": {},
   "outputs": [],
   "source": [
    "image = cv2.imread('Data\\Images\\IMG_20201031_182329.jpg')"
   ]
  },
  {
   "cell_type": "code",
   "execution_count": 6,
   "metadata": {},
   "outputs": [],
   "source": [
    "cv2.imshow('image', image)\n",
    "\n",
    "cv2.waitKey(0)\n",
    "cv2.destroyAllWindows()"
   ]
  },
  {
   "cell_type": "code",
   "execution_count": 7,
   "metadata": {},
   "outputs": [],
   "source": [
    "height = image.shape[0]\n",
    "width = image.shape[1]\n",
    "size = (height, width)"
   ]
  },
  {
   "cell_type": "code",
   "execution_count": 8,
   "metadata": {},
   "outputs": [],
   "source": [
    "res = cv2.resize(image, (int(width/2), int(height/2)), interpolation = cv2.INTER_CUBIC)"
   ]
  },
  {
   "cell_type": "code",
   "execution_count": 9,
   "metadata": {},
   "outputs": [
    {
     "data": {
      "text/plain": [
       "True"
      ]
     },
     "execution_count": 9,
     "metadata": {},
     "output_type": "execute_result"
    }
   ],
   "source": [
    "cv2.imwrite('result.jpg', res)"
   ]
  },
  {
   "cell_type": "code",
   "execution_count": 10,
   "metadata": {},
   "outputs": [],
   "source": [
    "# pytesseract.pytesseract.tesseract_cmd = 'C:\\Program Files\\Tesseract-OCR\\tesseract.exe'"
   ]
  },
  {
   "cell_type": "code",
   "execution_count": 11,
   "metadata": {},
   "outputs": [],
   "source": [
    "gray = cv2.cvtColor(image, cv2.COLOR_BGR2GRAY)"
   ]
  },
  {
   "cell_type": "code",
   "execution_count": 12,
   "metadata": {},
   "outputs": [],
   "source": [
    "ret, thresh1 = cv2.threshold(gray, 0, 255, cv2.THRESH_OTSU, cv2.THRESH_BINARY_INV)"
   ]
  },
  {
   "cell_type": "code",
   "execution_count": 13,
   "metadata": {},
   "outputs": [],
   "source": [
    "# Specify structure shape and kernel size.  \n",
    "# Kernel size increases or decreases the area  \n",
    "# of the rectangle to be detected. \n",
    "# A smaller value like (10, 10) will detect  \n",
    "# each word instead of a sentence. \n",
    "rect_kernel = cv2.getStructuringElement(cv2.MORPH_RECT, (18, 18)) \n",
    "  \n",
    "# Appplying dilation on the threshold image \n",
    "dilation = cv2.dilate(thresh1, rect_kernel, iterations = 1) \n",
    "  \n",
    "# Finding contours \n",
    "contours, hierarchy = cv2.findContours(dilation, cv2.RETR_EXTERNAL,  \n",
    "                                                 cv2.CHAIN_APPROX_NONE) "
   ]
  },
  {
   "cell_type": "code",
   "execution_count": 14,
   "metadata": {},
   "outputs": [],
   "source": [
    "im2 = image.copy()"
   ]
  },
  {
   "cell_type": "code",
   "execution_count": 15,
   "metadata": {},
   "outputs": [],
   "source": [
    "file = open('recognized.txt', 'w+')\n",
    "file.write('')\n",
    "file.close()"
   ]
  },
  {
   "cell_type": "code",
   "execution_count": 16,
   "metadata": {},
   "outputs": [],
   "source": [
    "for cnt in contours:\n",
    "    x, y, w, h = cv2.boundingRect(cnt)\n",
    "    \n",
    "    rect = cv2.rectangle(im2, (x, y), (x+w, y+h), (0, 255, 0), 2)\n",
    "    cropped = im2[y:y + h, x:x + w]\n",
    "    file = open('recognized.txt', 'a')\n",
    "    text = pytesseract.image_to_string(cropped)\n",
    "    file.write(text)\n",
    "    file.write('\\n')\n",
    "    file.close"
   ]
  },
  {
   "cell_type": "code",
   "execution_count": 13,
   "metadata": {},
   "outputs": [],
   "source": [
    "#++++++++++++++++++++++++++++++++++++++++++++++++#++++++++++++++++++++++++++++++++++++++++++++++++++++++++++++++++++++++++++++++"
   ]
  },
  {
   "cell_type": "markdown",
   "metadata": {},
   "source": [
    "## Using tesseract on a well defined image without any modifications on the image. Summarizing the text obtained using LexRank"
   ]
  },
  {
   "cell_type": "code",
   "execution_count": 17,
   "metadata": {},
   "outputs": [],
   "source": [
    "import cv2\n",
    "import pytesseract"
   ]
  },
  {
   "cell_type": "code",
   "execution_count": 18,
   "metadata": {},
   "outputs": [],
   "source": [
    "img = cv2.imread('Data/Images/IMG_20201031_182329_cropped.jpg')"
   ]
  },
  {
   "cell_type": "code",
   "execution_count": 19,
   "metadata": {},
   "outputs": [
    {
     "name": "stdout",
     "output_type": "stream",
     "text": [
      "Priest’s kin say he was facing threats\n",
      "\n",
      "> Continued from Page 1\n",
      "\n",
      "oshiarpur SSP Elanche-\n",
      "\n",
      "zian said that police wo-\n",
      "\n",
      "uld exame certain arti-\n",
      "\n",
      "cles, including the priest's be-\n",
      "longings, recovered from his\n",
      "room. But Kuriakose’s family\n",
      "\n",
      "has sought a Kerala police pro-\n",
      "\n",
      "be, saying the priest was con-\n",
      "\n",
      "cerned about his safety after\n",
      "\n",
      "corroborating the nun’s claim.\n",
      "\n",
      "“There was an attempt on\n",
      "\n",
      "his life. His house and car were\n",
      "vandalised. We have no trust in\n",
      "the probe by Jalandhar police\n",
      "who are under the influence of\n",
      "the bishop,” his elder brother\n",
      "\n",
      "supporting the complainant\n",
      "nun. Another brother Jose Ku-\n",
      "rian Kattuthara alleged that\n",
      "Kuriakose was_ repeatedly\n",
      "threatened by people close to\n",
      "bishop Mulakkal. “Three days\n",
      "ago, he had told me that he was\n",
      "ing threats and hooliga-\n",
      "nism,” he added.\n",
      "\n",
      "The priest’s cook Madan\n",
      "noticed his unusual absence\n",
      "on Monday morningand infor-\n",
      "med Sister Elizabeth, the prin-\n",
      "cipal of the school. “Kuriakose\n",
      "had coffee in the evening. He\n",
      "had told me that he should not\n",
      "be disturbed. At dinner time, I\n",
      "knocked on his door, but he did\n",
      "not respond. I did not bother\n",
      "him, assuming that he was sle-\n",
      "eping,” said Madan.\n",
      "\n",
      "Sister Elizabeth said she\n",
      "called an ambulance after her\n",
      "repeated knocks went unarnis-\n",
      "wered. Father Libin Kolenche-\n",
      "ery, a priest in neighbouring\n",
      "townof Mukerian, said he was\n",
      "informed by the nuns and they\n",
      "broke open Kuriakose’s bedro-\n",
      "om door before the police arri-\n",
      "\n",
      " \n",
      "\n",
      "Alappuzha police chief S\n",
      "Surendran said a complaint\n",
      "lodged by the priest’s brothers\n",
      "had been forwarded to the Ja-\n",
      "landhar police commissioner.\n",
      "“Weare notable todoanything\n",
      "\n",
      "as the incident took place in.Ja-\n",
      "landhar,” hesaid.\n",
      "\n",
      "rest, said, “We feel Father Kuri-\n",
      "akose’s death is a warning for\n",
      "us. Don’t know what is in store\n",
      "for us, our relatives and sup\n",
      "ce appa\n",
      "\n",
      "es ge\n",
      "\f",
      "\n"
     ]
    }
   ],
   "source": [
    "text = pytesseract.image_to_string(img, lang='eng')\n",
    "\n",
    "print(text)"
   ]
  },
  {
   "cell_type": "code",
   "execution_count": 20,
   "metadata": {},
   "outputs": [],
   "source": [
    "cv2.imshow('image', img)\n",
    "\n",
    "cv2.waitKey(0)\n",
    "cv2.destroyAllWindows()"
   ]
  },
  {
   "cell_type": "code",
   "execution_count": 24,
   "metadata": {},
   "outputs": [],
   "source": [
    "import sumy\n",
    "from sumy.parsers.plaintext import PlaintextParser\n",
    "from sumy.nlp.tokenizers import Tokenizer"
   ]
  },
  {
   "cell_type": "code",
   "execution_count": 25,
   "metadata": {},
   "outputs": [],
   "source": [
    "text = PlaintextParser.from_string(text, Tokenizer('english'))"
   ]
  },
  {
   "cell_type": "code",
   "execution_count": 27,
   "metadata": {},
   "outputs": [],
   "source": [
    "from sumy.summarizers.lex_rank import LexRankSummarizer\n",
    "\n",
    "lexRank = LexRankSummarizer()\n",
    "lexRank_summary = lexRank(text.document, 5)"
   ]
  },
  {
   "cell_type": "code",
   "execution_count": 29,
   "metadata": {},
   "outputs": [
    {
     "name": "stdout",
     "output_type": "stream",
     "text": [
      "We have no trust in the probe by Jalandhar police who are under the influence of the bishop,” his elder brother\n",
      "The priest’s cook Madan noticed his unusual absence on Monday morningand infor- med Sister Elizabeth, the prin- cipal of the school.\n",
      "Sister Elizabeth said she called an ambulance after her repeated knocks went unarnis- wered.\n",
      "Father Libin Kolenche- ery, a priest in neighbouring townof Mukerian, said he was informed by the nuns and they broke open Kuriakose’s bedro- om door before the police arri-\n",
      "Alappuzha police chief S Surendran said a complaint lodged by the priest’s brothers had been forwarded to the Ja- landhar police commissioner.\n"
     ]
    }
   ],
   "source": [
    "for i in lexRank_summary:\n",
    "    print(i)"
   ]
  },
  {
   "cell_type": "code",
   "execution_count": 30,
   "metadata": {},
   "outputs": [
    {
     "name": "stdout",
     "output_type": "stream",
     "text": [
      "Requirement already satisfied: Pillow in c:\\programdata\\anaconda3\\lib\\site-packages (8.0.1)\n",
      "Note: you may need to restart the kernel to use updated packages.\n"
     ]
    }
   ],
   "source": []
  },
  {
   "cell_type": "code",
   "execution_count": null,
   "metadata": {},
   "outputs": [],
   "source": []
  }
 ],
 "metadata": {
  "kernelspec": {
   "display_name": "Python 3",
   "language": "python",
   "name": "python3"
  },
  "language_info": {
   "codemirror_mode": {
    "name": "ipython",
    "version": 3
   },
   "file_extension": ".py",
   "mimetype": "text/x-python",
   "name": "python",
   "nbconvert_exporter": "python",
   "pygments_lexer": "ipython3",
   "version": "3.8.5"
  }
 },
 "nbformat": 4,
 "nbformat_minor": 4
}
